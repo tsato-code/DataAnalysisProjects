{
  "nbformat": 4,
  "nbformat_minor": 0,
  "metadata": {
    "colab": {
      "name": "keras_001.ipynb",
      "version": "0.3.2",
      "provenance": [],
      "include_colab_link": true
    },
    "kernelspec": {
      "name": "python3",
      "display_name": "Python 3"
    },
    "accelerator": "GPU"
  },
  "cells": [
    {
      "cell_type": "markdown",
      "metadata": {
        "id": "view-in-github",
        "colab_type": "text"
      },
      "source": [
        "[View in Colaboratory](https://colab.research.google.com/github/tsato-code/DataAnalysisProjects/blob/master/keras_001.ipynb)"
      ]
    },
    {
      "metadata": {
        "id": "MHFYSxQBUNIR",
        "colab_type": "text"
      },
      "cell_type": "markdown",
      "source": [
        "# Googlecolaboratoryの動作確認"
      ]
    },
    {
      "metadata": {
        "id": "1yfPwvpkSZlO",
        "colab_type": "code",
        "colab": {
          "base_uri": "https://localhost:8080/",
          "height": 34
        },
        "outputId": "374dad5b-42a6-461a-d81e-5aaf70c62b0a"
      },
      "cell_type": "code",
      "source": [
        "!pip install -q keras\n",
        "import keras"
      ],
      "execution_count": 1,
      "outputs": [
        {
          "output_type": "stream",
          "text": [
            "Using TensorFlow backend.\n"
          ],
          "name": "stderr"
        }
      ]
    },
    {
      "metadata": {
        "id": "jHhA20MlSiPp",
        "colab_type": "code",
        "colab": {}
      },
      "cell_type": "code",
      "source": [
        "from keras.datasets import mnist\n",
        "(train_images, train_labels), (test_images, test_labels) = mnist.load_data()"
      ],
      "execution_count": 0,
      "outputs": []
    },
    {
      "metadata": {
        "id": "lXCsiqxHSn0q",
        "colab_type": "code",
        "colab": {
          "base_uri": "https://localhost:8080/",
          "height": 34
        },
        "outputId": "0c3305c1-1ed8-407e-8c6f-b202da406427"
      },
      "cell_type": "code",
      "source": [
        "train_images.shape"
      ],
      "execution_count": 3,
      "outputs": [
        {
          "output_type": "execute_result",
          "data": {
            "text/plain": [
              "(60000, 28, 28)"
            ]
          },
          "metadata": {
            "tags": []
          },
          "execution_count": 3
        }
      ]
    },
    {
      "metadata": {
        "id": "Kr7EVH3JTOUa",
        "colab_type": "code",
        "colab": {
          "base_uri": "https://localhost:8080/",
          "height": 272
        },
        "outputId": "9454a311-a58c-404e-af51-256359d8518f"
      },
      "cell_type": "code",
      "source": [
        "from tensorflow.python.client import device_lib\n",
        "device_lib.list_local_devices()"
      ],
      "execution_count": 4,
      "outputs": [
        {
          "output_type": "execute_result",
          "data": {
            "text/plain": [
              "[name: \"/device:CPU:0\"\n",
              " device_type: \"CPU\"\n",
              " memory_limit: 268435456\n",
              " locality {\n",
              " }\n",
              " incarnation: 8152082863172835488, name: \"/device:GPU:0\"\n",
              " device_type: \"GPU\"\n",
              " memory_limit: 11281989632\n",
              " locality {\n",
              "   bus_id: 1\n",
              "   links {\n",
              "   }\n",
              " }\n",
              " incarnation: 10336305757305990860\n",
              " physical_device_desc: \"device: 0, name: Tesla K80, pci bus id: 0000:00:04.0, compute capability: 3.7\"]"
            ]
          },
          "metadata": {
            "tags": []
          },
          "execution_count": 4
        }
      ]
    },
    {
      "metadata": {
        "id": "jtM8W-0yStqB",
        "colab_type": "code",
        "colab": {}
      },
      "cell_type": "code",
      "source": [
        "from keras.models import Sequential\n",
        "from keras.layers import Dense, Dropout\n",
        "from keras.optimizers import RMSprop\n",
        "\n",
        "batch_size = 128\n",
        "num_classes = 10\n",
        "epochs = 20"
      ],
      "execution_count": 0,
      "outputs": []
    },
    {
      "metadata": {
        "id": "l1088MltSxYR",
        "colab_type": "code",
        "colab": {}
      },
      "cell_type": "code",
      "source": [
        "(x_train, y_train), (x_test, y_test) = mnist.load_data()"
      ],
      "execution_count": 0,
      "outputs": []
    },
    {
      "metadata": {
        "id": "Ip4MMYEgTVqR",
        "colab_type": "code",
        "colab": {
          "base_uri": "https://localhost:8080/",
          "height": 51
        },
        "outputId": "319acbbd-f789-4265-8b61-b9d1b3fff13a"
      },
      "cell_type": "code",
      "source": [
        "x_train = x_train.reshape(60000, 784) # 2次元配列を1次元に変換\n",
        "x_test = x_test.reshape(10000, 784)\n",
        "x_train = x_train.astype('float32')   # int型をfloat32型に変換\n",
        "x_test = x_test.astype('float32')\n",
        "x_train /= 255                        # [0-255]の値を[0.0-1.0]に変換\n",
        "x_test /= 255\n",
        "print(x_train.shape[0], 'train samples')\n",
        "print(x_test.shape[0], 'test samples')"
      ],
      "execution_count": 7,
      "outputs": [
        {
          "output_type": "stream",
          "text": [
            "60000 train samples\n",
            "10000 test samples\n"
          ],
          "name": "stdout"
        }
      ]
    },
    {
      "metadata": {
        "id": "fqp3OcJgTX-5",
        "colab_type": "code",
        "colab": {}
      },
      "cell_type": "code",
      "source": [
        "# convert class vectors to binary class matrices\n",
        "y_train = keras.utils.to_categorical(y_train, num_classes)\n",
        "y_test = keras.utils.to_categorical(y_test, num_classes)"
      ],
      "execution_count": 0,
      "outputs": []
    },
    {
      "metadata": {
        "id": "3kNRJq9FTaAB",
        "colab_type": "code",
        "colab": {
          "base_uri": "https://localhost:8080/",
          "height": 306
        },
        "outputId": "8bfafae1-2b98-4657-eb9e-a507e551b347"
      },
      "cell_type": "code",
      "source": [
        "model = Sequential()\n",
        "model.add(Dense(512, activation='relu', input_shape=(784,)))\n",
        "model.add(Dropout(0.2))\n",
        "model.add(Dense(512, activation='relu'))\n",
        "model.add(Dropout(0.2))\n",
        "model.add(Dense(10, activation='softmax'))\n",
        "\n",
        "model.summary()\n",
        "model.compile(loss='categorical_crossentropy',\n",
        "              optimizer=RMSprop(),\n",
        "              metrics=['accuracy'])"
      ],
      "execution_count": 9,
      "outputs": [
        {
          "output_type": "stream",
          "text": [
            "_________________________________________________________________\n",
            "Layer (type)                 Output Shape              Param #   \n",
            "=================================================================\n",
            "dense_1 (Dense)              (None, 512)               401920    \n",
            "_________________________________________________________________\n",
            "dropout_1 (Dropout)          (None, 512)               0         \n",
            "_________________________________________________________________\n",
            "dense_2 (Dense)              (None, 512)               262656    \n",
            "_________________________________________________________________\n",
            "dropout_2 (Dropout)          (None, 512)               0         \n",
            "_________________________________________________________________\n",
            "dense_3 (Dense)              (None, 10)                5130      \n",
            "=================================================================\n",
            "Total params: 669,706\n",
            "Trainable params: 669,706\n",
            "Non-trainable params: 0\n",
            "_________________________________________________________________\n"
          ],
          "name": "stdout"
        }
      ]
    },
    {
      "metadata": {
        "id": "NdL4wEuSTb0p",
        "colab_type": "code",
        "colab": {
          "base_uri": "https://localhost:8080/",
          "height": 714
        },
        "outputId": "dbeda83c-d79d-4f78-ca01-17a0e97b2c79"
      },
      "cell_type": "code",
      "source": [
        "history = model.fit(x_train, y_train,  # 画像とラベルデータ\n",
        "                    batch_size=batch_size,\n",
        "                    epochs=epochs,     # エポック数の指定\n",
        "                    verbose=1,         # ログ出力の指定. 0だとログが出ない\n",
        "                    validation_data=(x_test, y_test))"
      ],
      "execution_count": 10,
      "outputs": [
        {
          "output_type": "stream",
          "text": [
            "Train on 60000 samples, validate on 10000 samples\n",
            "Epoch 1/20\n",
            "60000/60000 [==============================] - 4s 62us/step - loss: 0.2446 - acc: 0.9248 - val_loss: 0.1014 - val_acc: 0.9704\n",
            "Epoch 2/20\n",
            "60000/60000 [==============================] - 3s 55us/step - loss: 0.1018 - acc: 0.9688 - val_loss: 0.0809 - val_acc: 0.9753\n",
            "Epoch 3/20\n",
            "60000/60000 [==============================] - 3s 56us/step - loss: 0.0753 - acc: 0.9767 - val_loss: 0.0714 - val_acc: 0.9792\n",
            "Epoch 4/20\n",
            "60000/60000 [==============================] - 3s 55us/step - loss: 0.0596 - acc: 0.9822 - val_loss: 0.0777 - val_acc: 0.9792\n",
            "Epoch 5/20\n",
            "60000/60000 [==============================] - 3s 56us/step - loss: 0.0486 - acc: 0.9851 - val_loss: 0.0724 - val_acc: 0.9814\n",
            "Epoch 6/20\n",
            "60000/60000 [==============================] - 3s 56us/step - loss: 0.0424 - acc: 0.9868 - val_loss: 0.0755 - val_acc: 0.9809\n",
            "Epoch 7/20\n",
            "60000/60000 [==============================] - 3s 56us/step - loss: 0.0381 - acc: 0.9887 - val_loss: 0.0899 - val_acc: 0.9800\n",
            "Epoch 8/20\n",
            "60000/60000 [==============================] - 3s 56us/step - loss: 0.0334 - acc: 0.9901 - val_loss: 0.0798 - val_acc: 0.9808\n",
            "Epoch 9/20\n",
            "60000/60000 [==============================] - 3s 55us/step - loss: 0.0310 - acc: 0.9917 - val_loss: 0.0788 - val_acc: 0.9827\n",
            "Epoch 10/20\n",
            "60000/60000 [==============================] - 3s 55us/step - loss: 0.0289 - acc: 0.9914 - val_loss: 0.0808 - val_acc: 0.9826\n",
            "Epoch 11/20\n",
            "60000/60000 [==============================] - 3s 56us/step - loss: 0.0259 - acc: 0.9927 - val_loss: 0.0919 - val_acc: 0.9826\n",
            "Epoch 12/20\n",
            "60000/60000 [==============================] - 3s 55us/step - loss: 0.0266 - acc: 0.9927 - val_loss: 0.0981 - val_acc: 0.9826\n",
            "Epoch 13/20\n",
            "60000/60000 [==============================] - 3s 55us/step - loss: 0.0233 - acc: 0.9935 - val_loss: 0.1020 - val_acc: 0.9834\n",
            "Epoch 14/20\n",
            "60000/60000 [==============================] - 3s 55us/step - loss: 0.0226 - acc: 0.9938 - val_loss: 0.0910 - val_acc: 0.9835\n",
            "Epoch 15/20\n",
            "60000/60000 [==============================] - 3s 55us/step - loss: 0.0208 - acc: 0.9942 - val_loss: 0.0857 - val_acc: 0.9838\n",
            "Epoch 16/20\n",
            "60000/60000 [==============================] - 3s 55us/step - loss: 0.0203 - acc: 0.9944 - val_loss: 0.1034 - val_acc: 0.9839\n",
            "Epoch 17/20\n",
            "60000/60000 [==============================] - 3s 55us/step - loss: 0.0198 - acc: 0.9948 - val_loss: 0.1069 - val_acc: 0.9831\n",
            "Epoch 18/20\n",
            "60000/60000 [==============================] - 3s 55us/step - loss: 0.0208 - acc: 0.9943 - val_loss: 0.1128 - val_acc: 0.9835\n",
            "Epoch 19/20\n",
            "60000/60000 [==============================] - 3s 55us/step - loss: 0.0173 - acc: 0.9952 - val_loss: 0.1197 - val_acc: 0.9824\n",
            "Epoch 20/20\n",
            "60000/60000 [==============================] - 3s 56us/step - loss: 0.0190 - acc: 0.9950 - val_loss: 0.1037 - val_acc: 0.9854\n"
          ],
          "name": "stdout"
        }
      ]
    },
    {
      "metadata": {
        "id": "m9R6YLA7ThDZ",
        "colab_type": "code",
        "colab": {
          "base_uri": "https://localhost:8080/",
          "height": 51
        },
        "outputId": "cb1f72c1-a678-4c31-9131-d819c637f311"
      },
      "cell_type": "code",
      "source": [
        "score = model.evaluate(x_test, y_test, verbose=0)\n",
        "print('Test loss:', score[0])\n",
        "print('Test accuracy:', score[1])"
      ],
      "execution_count": 11,
      "outputs": [
        {
          "output_type": "stream",
          "text": [
            "Test loss: 0.10367084422407163\n",
            "Test accuracy: 0.9854\n"
          ],
          "name": "stdout"
        }
      ]
    }
  ]
}