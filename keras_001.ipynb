{
  "nbformat": 4,
  "nbformat_minor": 0,
  "metadata": {
    "colab": {
      "name": "keras_001.ipynb",
      "version": "0.3.2",
      "provenance": [],
      "include_colab_link": true
    },
    "kernelspec": {
      "name": "python3",
      "display_name": "Python 3"
    },
    "accelerator": "GPU"
  },
  "cells": [
    {
      "cell_type": "markdown",
      "metadata": {
        "id": "view-in-github",
        "colab_type": "text"
      },
      "source": [
        "[View in Colaboratory](https://colab.research.google.com/github/tsato-code/DataAnalysisProjects/blob/master/keras_001.ipynb)"
      ]
    },
    {
      "metadata": {
        "id": "MHFYSxQBUNIR",
        "colab_type": "text"
      },
      "cell_type": "markdown",
      "source": [
        "# Googlecolaboratoryの動作確認"
      ]
    },
    {
      "metadata": {
        "id": "1yfPwvpkSZlO",
        "colab_type": "code",
        "colab": {
          "base_uri": "https://localhost:8080/",
          "height": 34
        },
        "outputId": "d830822d-7199-43a0-d124-14207e3c1bce"
      },
      "cell_type": "code",
      "source": [
        "!pip install -q keras\n",
        "import keras"
      ],
      "execution_count": 1,
      "outputs": [
        {
          "output_type": "stream",
          "text": [
            "Using TensorFlow backend.\n"
          ],
          "name": "stderr"
        }
      ]
    },
    {
      "metadata": {
        "id": "jHhA20MlSiPp",
        "colab_type": "code",
        "colab": {
          "base_uri": "https://localhost:8080/",
          "height": 51
        },
        "outputId": "63361457-e3ac-4598-c7f5-48b4d5d94b31"
      },
      "cell_type": "code",
      "source": [
        "from keras.datasets import mnist\n",
        "(train_images, train_labels), (test_images, test_labels) = mnist.load_data()"
      ],
      "execution_count": 2,
      "outputs": [
        {
          "output_type": "stream",
          "text": [
            "Downloading data from https://s3.amazonaws.com/img-datasets/mnist.npz\n",
            "11493376/11490434 [==============================] - 2s 0us/step\n"
          ],
          "name": "stdout"
        }
      ]
    },
    {
      "metadata": {
        "id": "lXCsiqxHSn0q",
        "colab_type": "code",
        "colab": {
          "base_uri": "https://localhost:8080/",
          "height": 34
        },
        "outputId": "4b25bad6-cb46-4bab-e54f-a4fcd675c6aa"
      },
      "cell_type": "code",
      "source": [
        "train_images.shape"
      ],
      "execution_count": 3,
      "outputs": [
        {
          "output_type": "execute_result",
          "data": {
            "text/plain": [
              "(60000, 28, 28)"
            ]
          },
          "metadata": {
            "tags": []
          },
          "execution_count": 3
        }
      ]
    },
    {
      "metadata": {
        "id": "Kr7EVH3JTOUa",
        "colab_type": "code",
        "colab": {
          "base_uri": "https://localhost:8080/",
          "height": 272
        },
        "outputId": "9a590cb1-e2d4-486c-8867-a7ce8d028a33"
      },
      "cell_type": "code",
      "source": [
        "from tensorflow.python.client import device_lib\n",
        "device_lib.list_local_devices()"
      ],
      "execution_count": 8,
      "outputs": [
        {
          "output_type": "execute_result",
          "data": {
            "text/plain": [
              "[name: \"/device:CPU:0\"\n",
              " device_type: \"CPU\"\n",
              " memory_limit: 268435456\n",
              " locality {\n",
              " }\n",
              " incarnation: 16791430190073302498, name: \"/device:GPU:0\"\n",
              " device_type: \"GPU\"\n",
              " memory_limit: 11281989632\n",
              " locality {\n",
              "   bus_id: 1\n",
              "   links {\n",
              "   }\n",
              " }\n",
              " incarnation: 4170975714338322769\n",
              " physical_device_desc: \"device: 0, name: Tesla K80, pci bus id: 0000:00:04.0, compute capability: 3.7\"]"
            ]
          },
          "metadata": {
            "tags": []
          },
          "execution_count": 8
        }
      ]
    },
    {
      "metadata": {
        "id": "jtM8W-0yStqB",
        "colab_type": "code",
        "colab": {}
      },
      "cell_type": "code",
      "source": [
        "from keras.models import Sequential\n",
        "from keras.layers import Dense, Dropout\n",
        "from keras.optimizers import RMSprop\n",
        "\n",
        "batch_size = 128\n",
        "num_classes = 10\n",
        "epochs = 20"
      ],
      "execution_count": 0,
      "outputs": []
    },
    {
      "metadata": {
        "id": "l1088MltSxYR",
        "colab_type": "code",
        "colab": {}
      },
      "cell_type": "code",
      "source": [
        "(x_train, y_train), (x_test, y_test) = mnist.load_data()"
      ],
      "execution_count": 0,
      "outputs": []
    },
    {
      "metadata": {
        "id": "Ip4MMYEgTVqR",
        "colab_type": "code",
        "colab": {
          "base_uri": "https://localhost:8080/",
          "height": 51
        },
        "outputId": "9156e282-6eb6-43c2-c90d-b323c4e05b76"
      },
      "cell_type": "code",
      "source": [
        "x_train = x_train.reshape(60000, 784) # 2次元配列を1次元に変換\n",
        "x_test = x_test.reshape(10000, 784)\n",
        "x_train = x_train.astype('float32')   # int型をfloat32型に変換\n",
        "x_test = x_test.astype('float32')\n",
        "x_train /= 255                        # [0-255]の値を[0.0-1.0]に変換\n",
        "x_test /= 255\n",
        "print(x_train.shape[0], 'train samples')\n",
        "print(x_test.shape[0], 'test samples')"
      ],
      "execution_count": 10,
      "outputs": [
        {
          "output_type": "stream",
          "text": [
            "60000 train samples\n",
            "10000 test samples\n"
          ],
          "name": "stdout"
        }
      ]
    },
    {
      "metadata": {
        "id": "fqp3OcJgTX-5",
        "colab_type": "code",
        "colab": {}
      },
      "cell_type": "code",
      "source": [
        "# convert class vectors to binary class matrices\n",
        "y_train = keras.utils.to_categorical(y_train, num_classes)\n",
        "y_test = keras.utils.to_categorical(y_test, num_classes)"
      ],
      "execution_count": 0,
      "outputs": []
    },
    {
      "metadata": {
        "id": "3kNRJq9FTaAB",
        "colab_type": "code",
        "colab": {
          "base_uri": "https://localhost:8080/",
          "height": 306
        },
        "outputId": "48c4a891-210c-4b95-8474-91601af01f60"
      },
      "cell_type": "code",
      "source": [
        "model = Sequential()\n",
        "model.add(Dense(512, activation='relu', input_shape=(784,)))\n",
        "model.add(Dropout(0.2))\n",
        "model.add(Dense(512, activation='relu'))\n",
        "model.add(Dropout(0.2))\n",
        "model.add(Dense(10, activation='softmax'))\n",
        "\n",
        "model.summary()\n",
        "model.compile(loss='categorical_crossentropy',\n",
        "              optimizer=RMSprop(),\n",
        "              metrics=['accuracy'])"
      ],
      "execution_count": 12,
      "outputs": [
        {
          "output_type": "stream",
          "text": [
            "_________________________________________________________________\n",
            "Layer (type)                 Output Shape              Param #   \n",
            "=================================================================\n",
            "dense_1 (Dense)              (None, 512)               401920    \n",
            "_________________________________________________________________\n",
            "dropout_1 (Dropout)          (None, 512)               0         \n",
            "_________________________________________________________________\n",
            "dense_2 (Dense)              (None, 512)               262656    \n",
            "_________________________________________________________________\n",
            "dropout_2 (Dropout)          (None, 512)               0         \n",
            "_________________________________________________________________\n",
            "dense_3 (Dense)              (None, 10)                5130      \n",
            "=================================================================\n",
            "Total params: 669,706\n",
            "Trainable params: 669,706\n",
            "Non-trainable params: 0\n",
            "_________________________________________________________________\n"
          ],
          "name": "stdout"
        }
      ]
    },
    {
      "metadata": {
        "id": "NdL4wEuSTb0p",
        "colab_type": "code",
        "colab": {
          "base_uri": "https://localhost:8080/",
          "height": 714
        },
        "outputId": "72355c28-b7cc-43f0-f5ea-83045835e375"
      },
      "cell_type": "code",
      "source": [
        "history = model.fit(x_train, y_train,  # 画像とラベルデータ\n",
        "                    batch_size=batch_size,\n",
        "                    epochs=epochs,     # エポック数の指定\n",
        "                    verbose=1,         # ログ出力の指定. 0だとログが出ない\n",
        "                    validation_data=(x_test, y_test))"
      ],
      "execution_count": 13,
      "outputs": [
        {
          "output_type": "stream",
          "text": [
            "Train on 60000 samples, validate on 10000 samples\n",
            "Epoch 1/20\n",
            "60000/60000 [==============================] - 4s 61us/step - loss: 0.2484 - acc: 0.9228 - val_loss: 0.1224 - val_acc: 0.9602\n",
            "Epoch 2/20\n",
            "60000/60000 [==============================] - 3s 55us/step - loss: 0.1036 - acc: 0.9684 - val_loss: 0.0793 - val_acc: 0.9754\n",
            "Epoch 3/20\n",
            "60000/60000 [==============================] - 3s 56us/step - loss: 0.0759 - acc: 0.9768 - val_loss: 0.0890 - val_acc: 0.9731\n",
            "Epoch 4/20\n",
            "60000/60000 [==============================] - 3s 54us/step - loss: 0.0602 - acc: 0.9818 - val_loss: 0.0779 - val_acc: 0.9797\n",
            "Epoch 5/20\n",
            "60000/60000 [==============================] - 3s 56us/step - loss: 0.0496 - acc: 0.9857 - val_loss: 0.0674 - val_acc: 0.9829\n",
            "Epoch 6/20\n",
            "60000/60000 [==============================] - 3s 55us/step - loss: 0.0432 - acc: 0.9874 - val_loss: 0.0787 - val_acc: 0.9819\n",
            "Epoch 7/20\n",
            "60000/60000 [==============================] - 3s 56us/step - loss: 0.0385 - acc: 0.9888 - val_loss: 0.0715 - val_acc: 0.9837\n",
            "Epoch 8/20\n",
            "60000/60000 [==============================] - 3s 54us/step - loss: 0.0343 - acc: 0.9898 - val_loss: 0.0840 - val_acc: 0.9812\n",
            "Epoch 9/20\n",
            "60000/60000 [==============================] - 3s 55us/step - loss: 0.0318 - acc: 0.9907 - val_loss: 0.0813 - val_acc: 0.9825\n",
            "Epoch 10/20\n",
            "60000/60000 [==============================] - 3s 56us/step - loss: 0.0298 - acc: 0.9916 - val_loss: 0.0822 - val_acc: 0.9836\n",
            "Epoch 11/20\n",
            "60000/60000 [==============================] - 3s 56us/step - loss: 0.0268 - acc: 0.9921 - val_loss: 0.0851 - val_acc: 0.9831\n",
            "Epoch 12/20\n",
            "60000/60000 [==============================] - 3s 55us/step - loss: 0.0251 - acc: 0.9929 - val_loss: 0.0819 - val_acc: 0.9845\n",
            "Epoch 13/20\n",
            "60000/60000 [==============================] - 3s 54us/step - loss: 0.0235 - acc: 0.9934 - val_loss: 0.0988 - val_acc: 0.9835\n",
            "Epoch 14/20\n",
            "60000/60000 [==============================] - 3s 55us/step - loss: 0.0232 - acc: 0.9935 - val_loss: 0.0965 - val_acc: 0.9854\n",
            "Epoch 15/20\n",
            "60000/60000 [==============================] - 3s 56us/step - loss: 0.0224 - acc: 0.9937 - val_loss: 0.0935 - val_acc: 0.9839\n",
            "Epoch 16/20\n",
            "60000/60000 [==============================] - 3s 55us/step - loss: 0.0199 - acc: 0.9943 - val_loss: 0.1091 - val_acc: 0.9837\n",
            "Epoch 17/20\n",
            "60000/60000 [==============================] - 3s 56us/step - loss: 0.0211 - acc: 0.9946 - val_loss: 0.0939 - val_acc: 0.9841\n",
            "Epoch 18/20\n",
            "60000/60000 [==============================] - 3s 55us/step - loss: 0.0185 - acc: 0.9950 - val_loss: 0.1082 - val_acc: 0.9846\n",
            "Epoch 19/20\n",
            "60000/60000 [==============================] - 3s 56us/step - loss: 0.0190 - acc: 0.9948 - val_loss: 0.1120 - val_acc: 0.9822\n",
            "Epoch 20/20\n",
            "60000/60000 [==============================] - 3s 56us/step - loss: 0.0194 - acc: 0.9953 - val_loss: 0.1060 - val_acc: 0.9835\n"
          ],
          "name": "stdout"
        }
      ]
    },
    {
      "metadata": {
        "id": "m9R6YLA7ThDZ",
        "colab_type": "code",
        "colab": {
          "base_uri": "https://localhost:8080/",
          "height": 51
        },
        "outputId": "59a9a619-06a1-422f-9ba3-fd82a3ca95ce"
      },
      "cell_type": "code",
      "source": [
        "score = model.evaluate(x_test, y_test, verbose=0)\n",
        "print('Test loss:', score[0])\n",
        "print('Test accuracy:', score[1])"
      ],
      "execution_count": 18,
      "outputs": [
        {
          "output_type": "stream",
          "text": [
            "Test loss: 0.10599899399382182\n",
            "Test accuracy: 0.9835\n"
          ],
          "name": "stdout"
        }
      ]
    },
    {
      "metadata": {
        "id": "7EgdR5NcToZx",
        "colab_type": "code",
        "colab": {}
      },
      "cell_type": "code",
      "source": [
        ""
      ],
      "execution_count": 0,
      "outputs": []
    }
  ]
}