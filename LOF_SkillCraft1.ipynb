{
 "cells": [
  {
   "cell_type": "code",
   "execution_count": 1,
   "metadata": {},
   "outputs": [],
   "source": [
    "import warnings\n",
    "# warnings.filterwarnings(\"ignore\", message=\"numpy.dtype size changed\")\n",
    "# warnings.filterwarnings(\"ignore\", message=\"numpy.ufunc size changed\")\n",
    "import pandas as pd\n",
    "import numpy as np\n",
    "import matplotlib.pyplot as plt\n",
    "import itertools\n",
    "from sklearn.model_selection import KFold\n",
    "# from MTS import *\n",
    "# from orthogonal_array import *\n",
    "from sklearn.mixture import BayesianGaussianMixture\n",
    "from sklearn.neighbors import NearestNeighbors"
   ]
  },
  {
   "cell_type": "code",
   "execution_count": 2,
   "metadata": {},
   "outputs": [],
   "source": [
    "# 近傍有効距離の計算\n",
    "def reachability_dist(knn, xs, xs_idx, xt, xt_idx):\n",
    "    xs_distk, xs_idxk = knn.kneighbors([xs])\n",
    "    xt_distk, xt_idxk = knn.kneighbors([xt])\n",
    "    if xs_idx in xt_idxk and xt_idx in xs_idxk:\n",
    "        return np.max(xt_distk)\n",
    "    else:\n",
    "        return np.sum((xs - xt)**2)**0.5\n",
    "\n",
    "def local_outlier_factor(X_train, X_test, num_k=5):\n",
    "    # k近傍法\n",
    "    knn = NearestNeighbors(n_neighbors=num_k)\n",
    "    knn.fit(X_train)\n",
    "    # テストデータの計算\n",
    "    anom_score = []\n",
    "    for i, x1 in X_test.iterrows():\n",
    "        # x1 のk近傍計算\n",
    "        x1_distk, x1_idxk = knn.kneighbors([x1])\n",
    "        # 有効近傍距離の計算\n",
    "        numerator = 0\n",
    "        for j in x1_idxk[0]:\n",
    "            x2 = X_train.iloc[j]\n",
    "            numerator += reachability_dist(knn, x1, i,  x2, j)\n",
    "        numerator /= num_k\n",
    "        denominator = 0\n",
    "        for j in x1_idxk[0]:\n",
    "            x2 = X_train.iloc[j]\n",
    "            x2_distk, x2_idxk = knn.kneighbors([x2])\n",
    "            for k in x2_idxk[0]:\n",
    "                x3 = X_train.iloc[k]\n",
    "                denominator += numerator / reachability_dist(knn, x2, j,  x3, k) / num_k\n",
    "        a_x1 = denominator / num_k\n",
    "        anom_score.append(a_x1)\n",
    "    return anom_score\n",
    "\n",
    "def break_even(a, y_test):\n",
    "    \"\"\" 分岐点精度の計算 \"\"\"\n",
    "    # 正常標本精度と異常標本精度の計算\n",
    "    y_test.reset_index(drop=True, inplace=True) # インデックスリセット\n",
    "    idx = a.argsort()[::-1] # 降順のインデックス計算\n",
    "    n_total = len(y_test)\n",
    "    n_anom = sum(y_test)\n",
    "    n_norm = n_total - n_anom\n",
    "    coverage = np.zeros(n_total) # 異常標本精度\n",
    "    detection = np.zeros(n_total) # 正常標本精度\n",
    "    for i in range(n_total):\n",
    "        n_detected_anom = sum(y_test[idx][:i])\n",
    "        n_detected_norm = n_total - i - sum(y_test[idx][i:])\n",
    "        coverage[i] = n_detected_anom / n_anom\n",
    "        detection[i] = n_detected_norm / n_norm\n",
    "\n",
    "    # 分岐点精度の計算\n",
    "    thresh = 0\n",
    "    for i, (c_score, d_score) in enumerate(zip(coverage, detection)):\n",
    "        if c_score >= d_score:\n",
    "            thresh = i\n",
    "            break\n",
    "    break_even_point = a[idx][thresh]\n",
    "    print(break_even_point, c_score, d_score)\n",
    "    return (break_even_point, c_score), (coverage, detection)"
   ]
  },
  {
   "cell_type": "code",
   "execution_count": 3,
   "metadata": {},
   "outputs": [],
   "source": [
    "# ファイル読み込み\n",
    "IN_FILE = '../data/SkillCraft1_Dataset.csv'\n",
    "df = pd.read_csv(IN_FILE, header=0, index_col=None, sep=',')"
   ]
  },
  {
   "cell_type": "code",
   "execution_count": 4,
   "metadata": {
    "scrolled": true
   },
   "outputs": [],
   "source": [
    "# '?'を含む行を削除\n",
    "df = df[(df=='?').sum(axis=1)==0]"
   ]
  },
  {
   "cell_type": "code",
   "execution_count": 5,
   "metadata": {},
   "outputs": [],
   "source": [
    "# シャッフルとインデックス更新\n",
    "df = df.sample(frac=1, random_state=0) # 行シャッフル\n",
    "df = df.reset_index(drop=True) # インデックスの更新"
   ]
  },
  {
   "cell_type": "code",
   "execution_count": 6,
   "metadata": {},
   "outputs": [
    {
     "name": "stdout",
     "output_type": "stream",
     "text": [
      "(3338, 18)\n"
     ]
    }
   ],
   "source": [
    "# データセットの作成\n",
    "target_col = 'LeagueIndex'\n",
    "target = 1\n",
    "del_col = [target_col, 'GameID']\n",
    "X = df.drop(del_col, axis=1)\n",
    "y = (df[target_col]==target).astype(np.int32)\n",
    "print(X.shape)"
   ]
  },
  {
   "cell_type": "markdown",
   "metadata": {},
   "source": [
    "# 異常検出（5分割交差検証による評価）"
   ]
  },
  {
   "cell_type": "code",
   "execution_count": 7,
   "metadata": {
    "scrolled": true
   },
   "outputs": [
    {
     "name": "stdout",
     "output_type": "stream",
     "text": [
      "0.9510966448883394 0.6666666666666666 0.6426332288401254\n",
      "0.9441844571560967 0.6285714285714286 0.627172195892575\n",
      "1.0022840928188186 0.71875 0.7154088050314465\n",
      "0.9302788944687234 0.5757575757575758 0.5615141955835962\n",
      "0.9826327257592379 0.7027027027027027 0.6936507936507936\n",
      "average: 0.6584896747396747\n",
      "Wall time: 7min 12s\n"
     ]
    }
   ],
   "source": [
    "%%time\n",
    "# 項目選択のないMT法（単なるMahalanobis距離）交差確認\n",
    "scores = []\n",
    "kf = KFold(n_splits=5, random_state=0, shuffle=True)\n",
    "for i, (train_index, test_index) in enumerate(kf.split(X)):\n",
    "    # print(\"TRAIN:\", train_index, \"TEST:\", test_index)\n",
    "    X_train, X_test = X.iloc[train_index], X.iloc[test_index]\n",
    "    y_train, y_test = y.iloc[train_index], y.iloc[test_index]\n",
    "\n",
    "    # 混合正規分布による異常検知\n",
    "    # →平均\n",
    "    anomaly_score = local_outlier_factor(X_train[y_train==0].astype(np.float64), X_test.astype(np.float64), 15)\n",
    "    (break_even_point, score), (coverage, detection) = break_even(np.array(anomaly_score), y_test)\n",
    "    scores.append(score)\n",
    "print('average: {}'.format(sum(scores)/len(scores)))"
   ]
  }
 ],
 "metadata": {
  "kernelspec": {
   "display_name": "Python 3",
   "language": "python",
   "name": "python3"
  },
  "language_info": {
   "codemirror_mode": {
    "name": "ipython",
    "version": 3
   },
   "file_extension": ".py",
   "mimetype": "text/x-python",
   "name": "python",
   "nbconvert_exporter": "python",
   "pygments_lexer": "ipython3",
   "version": "3.6.4"
  }
 },
 "nbformat": 4,
 "nbformat_minor": 2
}
