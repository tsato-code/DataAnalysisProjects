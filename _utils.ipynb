{
 "cells": [
  {
   "cell_type": "code",
   "execution_count": 1,
   "metadata": {},
   "outputs": [],
   "source": [
    "from datetime import datetime\n",
    "from glob import glob\n",
    "from time import time, sleep\n",
    "import feather\n",
    "import os\n",
    "import pandas as pd\n",
    "import platform\n",
    "import sys"
   ]
  },
  {
   "cell_type": "code",
   "execution_count": 2,
   "metadata": {},
   "outputs": [],
   "source": [
    "def start(fname):\n",
    "    global st_time\n",
    "    st_time = time()\n",
    "    print(\"=\"*80)\n",
    "    print(\"DATE: {}\".format(datetime.now()))\n",
    "    print(\"FILE: {}\".format(fname))\n",
    "    print(\"PID: {}\".format(os.getpid()))\n",
    "    print(\"HOST: {}\".format(platform.node()))\n",
    "    print(\"ENV: {}\".format(platform.platform()))\n",
    "    print(\"=\"*80)\n",
    "\n",
    "    \n",
    "def end(fname):\n",
    "    print(\"=\"*80)\n",
    "    print(\"ELAPSED (sec): {:.2f}\".format(elapsed_time()))\n",
    "    print(\"=\"*80)\n",
    "\n",
    "    \n",
    "def elapsed_time():\n",
    "    return (time() - st_time)\n",
    "\n",
    "\n",
    "def reset_time():\n",
    "    global st_time\n",
    "    st_time = time()"
   ]
  },
  {
   "cell_type": "code",
   "execution_count": 3,
   "metadata": {},
   "outputs": [],
   "source": [
    "def to_feather(df, path=\"./\"):\n",
    "    df.reset_index(inplace=True, drop=True)\n",
    "    os.makedirs(path, exist_ok=True)\n",
    "    print(f\"write to {path}\")\n",
    "    for c in df.columns:\n",
    "        path_file = os.path.join(path, f\"{c}.f\")\n",
    "        if not glob(path_file):\n",
    "            df[[c]].to_feather(path_file)\n",
    "        else:\n",
    "            print(f\"WARNIG: {path_file} is exists!\")\n",
    "            sys.exit()\n",
    "\n",
    "            \n",
    "def read_feather(path=\"./\", col=None):\n",
    "    if col is None:\n",
    "        path_file = os.path.join(path, \"*.f\")\n",
    "        print(f\"read {path_file}\")\n",
    "        df = pd.concat([ feather.read_dataframe(f) for f in sorted(glob(path_file)) ], axis=1)\n",
    "    else:\n",
    "        path_file = os.path.join(path, col)\n",
    "        if not glob(path_file):\n",
    "            print(f\"read {path_file}\")\n",
    "            df = feather.read_dataframe(path_file)\n",
    "        else:\n",
    "            print(f\"WARNIG: {path_file} is exists!\")\n",
    "            sys.exit()\n",
    "    return df"
   ]
  },
  {
   "cell_type": "code",
   "execution_count": 4,
   "metadata": {},
   "outputs": [],
   "source": [
    "def to_pickles(df, path=\"./\"):\n",
    "    df.reset_index(inplace=True, drop=True)\n",
    "    os.makedirs(path, exist_ok=True)\n",
    "    print(f\"write to {path}\")\n",
    "    for c in df.columns:\n",
    "        path_file = os.path.join(path, f\"{c}.f\")\n",
    "        if not glob(path_file):\n",
    "            df[[c]].to_pickle(path_file)\n",
    "        else:\n",
    "            print(f\"WARNIG: {path_file} is exists!\")\n",
    "            sys.exit()\n",
    "\n",
    "\n",
    "def read_pickles(path=\"./\", col=None):\n",
    "    if col is None:\n",
    "        path_file = os.path.join(path, \"*.f\")\n",
    "        print(f\"read {path_file}\")\n",
    "        df = pd.concat([ pd.read_pickle(f) for f in sorted(glob(path_file)) ], axis=1)\n",
    "    else:\n",
    "        path_file = os.path.join(path, col)\n",
    "        if not glob(path_file):\n",
    "            print(f\"read {path_file}\")\n",
    "            df = pd.read_pickle(path_file)\n",
    "        else:\n",
    "            print(f\"WARNIG: {path_file} is exists!\")\n",
    "            sys.exit()\n",
    "    return df"
   ]
  },
  {
   "cell_type": "code",
   "execution_count": 5,
   "metadata": {},
   "outputs": [
    {
     "name": "stdout",
     "output_type": "stream",
     "text": [
      "================================================================================\n",
      "DATE: 2019-03-29 17:58:26.886260\n",
      "FILE: hoge\n",
      "PID: 580\n",
      "HOST: Y-project-11\n",
      "ENV: Windows-10-10.0.17134-SP0\n",
      "================================================================================\n",
      "================================================================================\n",
      "ELAPSED (sec): 0.00\n",
      "================================================================================\n"
     ]
    }
   ],
   "source": [
    "start(\"hoge\")\n",
    "end(\"hoge\")"
   ]
  },
  {
   "cell_type": "code",
   "execution_count": 6,
   "metadata": {},
   "outputs": [
    {
     "data": {
      "text/html": [
       "<div>\n",
       "<style scoped>\n",
       "    .dataframe tbody tr th:only-of-type {\n",
       "        vertical-align: middle;\n",
       "    }\n",
       "\n",
       "    .dataframe tbody tr th {\n",
       "        vertical-align: top;\n",
       "    }\n",
       "\n",
       "    .dataframe thead th {\n",
       "        text-align: right;\n",
       "    }\n",
       "</style>\n",
       "<table border=\"1\" class=\"dataframe\">\n",
       "  <thead>\n",
       "    <tr style=\"text-align: right;\">\n",
       "      <th></th>\n",
       "      <th>a</th>\n",
       "      <th>b</th>\n",
       "    </tr>\n",
       "  </thead>\n",
       "  <tbody>\n",
       "    <tr>\n",
       "      <th>0</th>\n",
       "      <td>1</td>\n",
       "      <td>6</td>\n",
       "    </tr>\n",
       "    <tr>\n",
       "      <th>1</th>\n",
       "      <td>2</td>\n",
       "      <td>7</td>\n",
       "    </tr>\n",
       "    <tr>\n",
       "      <th>2</th>\n",
       "      <td>3</td>\n",
       "      <td>8</td>\n",
       "    </tr>\n",
       "    <tr>\n",
       "      <th>3</th>\n",
       "      <td>4</td>\n",
       "      <td>9</td>\n",
       "    </tr>\n",
       "    <tr>\n",
       "      <th>4</th>\n",
       "      <td>5</td>\n",
       "      <td>10</td>\n",
       "    </tr>\n",
       "  </tbody>\n",
       "</table>\n",
       "</div>"
      ],
      "text/plain": [
       "   a   b\n",
       "0  1   6\n",
       "1  2   7\n",
       "2  3   8\n",
       "3  4   9\n",
       "4  5  10"
      ]
     },
     "execution_count": 6,
     "metadata": {},
     "output_type": "execute_result"
    }
   ],
   "source": [
    "df = pd.DataFrame({\"a\":[1,2,3,4,5], \"b\":[6,7,8,9,10]})\n",
    "df"
   ]
  },
  {
   "cell_type": "code",
   "execution_count": 7,
   "metadata": {},
   "outputs": [
    {
     "name": "stdout",
     "output_type": "stream",
     "text": [
      "write to new_folder00\n"
     ]
    }
   ],
   "source": [
    "to_feather(df, \"new_folder00\")"
   ]
  },
  {
   "cell_type": "code",
   "execution_count": 8,
   "metadata": {},
   "outputs": [
    {
     "name": "stdout",
     "output_type": "stream",
     "text": [
      "read new_folder00\\*.f\n"
     ]
    }
   ],
   "source": [
    "df00 = read_feather(\"new_folder00\")"
   ]
  },
  {
   "cell_type": "code",
   "execution_count": 9,
   "metadata": {},
   "outputs": [
    {
     "data": {
      "text/html": [
       "<div>\n",
       "<style scoped>\n",
       "    .dataframe tbody tr th:only-of-type {\n",
       "        vertical-align: middle;\n",
       "    }\n",
       "\n",
       "    .dataframe tbody tr th {\n",
       "        vertical-align: top;\n",
       "    }\n",
       "\n",
       "    .dataframe thead th {\n",
       "        text-align: right;\n",
       "    }\n",
       "</style>\n",
       "<table border=\"1\" class=\"dataframe\">\n",
       "  <thead>\n",
       "    <tr style=\"text-align: right;\">\n",
       "      <th></th>\n",
       "      <th>a</th>\n",
       "      <th>b</th>\n",
       "    </tr>\n",
       "  </thead>\n",
       "  <tbody>\n",
       "    <tr>\n",
       "      <th>0</th>\n",
       "      <td>1</td>\n",
       "      <td>6</td>\n",
       "    </tr>\n",
       "    <tr>\n",
       "      <th>1</th>\n",
       "      <td>2</td>\n",
       "      <td>7</td>\n",
       "    </tr>\n",
       "    <tr>\n",
       "      <th>2</th>\n",
       "      <td>3</td>\n",
       "      <td>8</td>\n",
       "    </tr>\n",
       "    <tr>\n",
       "      <th>3</th>\n",
       "      <td>4</td>\n",
       "      <td>9</td>\n",
       "    </tr>\n",
       "    <tr>\n",
       "      <th>4</th>\n",
       "      <td>5</td>\n",
       "      <td>10</td>\n",
       "    </tr>\n",
       "  </tbody>\n",
       "</table>\n",
       "</div>"
      ],
      "text/plain": [
       "   a   b\n",
       "0  1   6\n",
       "1  2   7\n",
       "2  3   8\n",
       "3  4   9\n",
       "4  5  10"
      ]
     },
     "execution_count": 9,
     "metadata": {},
     "output_type": "execute_result"
    }
   ],
   "source": [
    "df"
   ]
  },
  {
   "cell_type": "code",
   "execution_count": 10,
   "metadata": {},
   "outputs": [
    {
     "name": "stdout",
     "output_type": "stream",
     "text": [
      "write to new_folder01\n"
     ]
    }
   ],
   "source": [
    "to_pickles(df, \"new_folder01\")"
   ]
  },
  {
   "cell_type": "code",
   "execution_count": 11,
   "metadata": {},
   "outputs": [
    {
     "name": "stdout",
     "output_type": "stream",
     "text": [
      "read new_folder01\\*.f\n"
     ]
    }
   ],
   "source": [
    "df = read_pickles(\"new_folder01\")"
   ]
  },
  {
   "cell_type": "code",
   "execution_count": 12,
   "metadata": {},
   "outputs": [
    {
     "data": {
      "text/html": [
       "<div>\n",
       "<style scoped>\n",
       "    .dataframe tbody tr th:only-of-type {\n",
       "        vertical-align: middle;\n",
       "    }\n",
       "\n",
       "    .dataframe tbody tr th {\n",
       "        vertical-align: top;\n",
       "    }\n",
       "\n",
       "    .dataframe thead th {\n",
       "        text-align: right;\n",
       "    }\n",
       "</style>\n",
       "<table border=\"1\" class=\"dataframe\">\n",
       "  <thead>\n",
       "    <tr style=\"text-align: right;\">\n",
       "      <th></th>\n",
       "      <th>a</th>\n",
       "      <th>b</th>\n",
       "    </tr>\n",
       "  </thead>\n",
       "  <tbody>\n",
       "    <tr>\n",
       "      <th>0</th>\n",
       "      <td>1</td>\n",
       "      <td>6</td>\n",
       "    </tr>\n",
       "    <tr>\n",
       "      <th>1</th>\n",
       "      <td>2</td>\n",
       "      <td>7</td>\n",
       "    </tr>\n",
       "    <tr>\n",
       "      <th>2</th>\n",
       "      <td>3</td>\n",
       "      <td>8</td>\n",
       "    </tr>\n",
       "    <tr>\n",
       "      <th>3</th>\n",
       "      <td>4</td>\n",
       "      <td>9</td>\n",
       "    </tr>\n",
       "    <tr>\n",
       "      <th>4</th>\n",
       "      <td>5</td>\n",
       "      <td>10</td>\n",
       "    </tr>\n",
       "  </tbody>\n",
       "</table>\n",
       "</div>"
      ],
      "text/plain": [
       "   a   b\n",
       "0  1   6\n",
       "1  2   7\n",
       "2  3   8\n",
       "3  4   9\n",
       "4  5  10"
      ]
     },
     "execution_count": 12,
     "metadata": {},
     "output_type": "execute_result"
    }
   ],
   "source": [
    "df"
   ]
  }
 ],
 "metadata": {
  "kernelspec": {
   "display_name": "Python 3",
   "language": "python",
   "name": "python3"
  },
  "language_info": {
   "codemirror_mode": {
    "name": "ipython",
    "version": 3
   },
   "file_extension": ".py",
   "mimetype": "text/x-python",
   "name": "python",
   "nbconvert_exporter": "python",
   "pygments_lexer": "ipython3",
   "version": "3.6.7"
  }
 },
 "nbformat": 4,
 "nbformat_minor": 2
}
