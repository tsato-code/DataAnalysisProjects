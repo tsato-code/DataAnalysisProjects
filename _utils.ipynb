{
 "cells": [
  {
   "cell_type": "code",
   "execution_count": 16,
   "metadata": {},
   "outputs": [],
   "source": [
    "from contextlib import contextmanager\n",
    "from datetime import datetime\n",
    "from glob import glob\n",
    "from time import time, sleep\n",
    "import feather\n",
    "import logging\n",
    "import numpy as np\n",
    "import os\n",
    "import pandas as pd\n",
    "import platform\n",
    "import sys"
   ]
  },
  {
   "cell_type": "code",
   "execution_count": 17,
   "metadata": {},
   "outputs": [],
   "source": [
    "def start(fname):\n",
    "    global st_time\n",
    "    st_time = time()\n",
    "    print(\"=\"*80)\n",
    "    print(\"DATE: {}\".format(datetime.now()))\n",
    "    print(\"FILE: {}\".format(fname))\n",
    "    print(\"PID: {}\".format(os.getpid()))\n",
    "    print(\"HOST: {}\".format(platform.node()))\n",
    "    print(\"ENV: {}\".format(platform.platform()))\n",
    "    print(\"=\"*80)\n",
    "\n",
    "\n",
    "def end():\n",
    "    print(\"=\"*80)\n",
    "    print(\"ELAPSED: {:.2f} (sec)\".format(elapsed_time()))\n",
    "    print(\"=\"*80)\n",
    "\n",
    "\n",
    "def elapsed_time():\n",
    "    return (time() - st_time)\n",
    "\n",
    "\n",
    "def reset_time():\n",
    "    global st_time\n",
    "    st_time = time()"
   ]
  },
  {
   "cell_type": "code",
   "execution_count": 18,
   "metadata": {},
   "outputs": [],
   "source": [
    "def to_feather(df, path=\"./\"):\n",
    "    df.reset_index(inplace=True, drop=True)\n",
    "    os.makedirs(path, exist_ok=True)\n",
    "    print(f\"write to {path}\")\n",
    "    for c in df.columns:\n",
    "        path_file = os.path.join(path, f\"{c}.f\")\n",
    "        if not glob(path_file):\n",
    "            df[[c]].to_feather(path_file)\n",
    "        else:\n",
    "            print(f\"WARNIG: {path_file} is exists!\")\n",
    "            sys.exit()\n",
    "\n",
    "            \n",
    "def read_feather(path=\"./\", col=None):\n",
    "    if col is None:\n",
    "        path_file = os.path.join(path, \"*.f\")\n",
    "        print(f\"read {path_file}\")\n",
    "        df = pd.concat([ feather.read_dataframe(f) for f in sorted(glob(path_file)) ], axis=1)\n",
    "    else:\n",
    "        path_file = os.path.join(path, col)\n",
    "        if not glob(path_file):\n",
    "            print(f\"read {path_file}\")\n",
    "            df = feather.read_dataframe(path_file)\n",
    "        else:\n",
    "            print(f\"WARNIG: {path_file} is exists!\")\n",
    "            sys.exit()\n",
    "    return df"
   ]
  },
  {
   "cell_type": "code",
   "execution_count": 19,
   "metadata": {},
   "outputs": [],
   "source": [
    "def to_pickles(df, path=\"./\"):\n",
    "    df.reset_index(inplace=True, drop=True)\n",
    "    os.makedirs(path, exist_ok=True)\n",
    "    print(f\"write to {path}\")\n",
    "    for c in df.columns:\n",
    "        path_file = os.path.join(path, f\"{c}.f\")\n",
    "        if not glob(path_file):\n",
    "            df[[c]].to_pickle(path_file)\n",
    "        else:\n",
    "            print(f\"WARNIG: {path_file} is exists!\")\n",
    "            sys.exit()\n",
    "\n",
    "\n",
    "def read_pickles(path=\"./\", col=None):\n",
    "    if col is None:\n",
    "        path_file = os.path.join(path, \"*.f\")\n",
    "        print(f\"read {path_file}\")\n",
    "        df = pd.concat([ pd.read_pickle(f) for f in sorted(glob(path_file)) ], axis=1)\n",
    "    else:\n",
    "        path_file = os.path.join(path, col)\n",
    "        if not glob(path_file):\n",
    "            print(f\"read {path_file}\")\n",
    "            df = pd.read_pickle(path_file)\n",
    "        else:\n",
    "            print(f\"WARNIG: {path_file} is exists!\")\n",
    "            sys.exit()\n",
    "    return df"
   ]
  },
  {
   "cell_type": "code",
   "execution_count": 20,
   "metadata": {},
   "outputs": [],
   "source": [
    "def reduce_mem_usage(df, verbose=True):\n",
    "    numerics = ['int16', 'int32', 'int64', 'float16', 'float32', 'float64']\n",
    "    start_mem = df.memory_usage().sum() / 1024**2\n",
    "    for col in df.columns:\n",
    "        col_type = df[col].dtypes\n",
    "        if col_type in numerics:\n",
    "            c_min = df[col].min()\n",
    "            c_max = df[col].max()\n",
    "            if str(col_type)[:3] == 'int':\n",
    "                if c_min > np.iinfo(np.int8).min and c_max < np.iinfo(np.int8).max:\n",
    "                    df[col] = df[col].astype(np.int8)\n",
    "                elif c_min > np.iinfo(np.int16).min and c_max < np.iinfo(np.int16).max:\n",
    "                    df[col] = df[col].astype(np.int16)\n",
    "                elif c_min > np.iinfo(np.int32).min and c_max < np.iinfo(np.int32).max:\n",
    "                    df[col] = df[col].astype(np.int32)\n",
    "                elif c_min > np.iinfo(np.int64).min and c_max < np.iinfo(np.int64).max:\n",
    "                    df[col] = df[col].astype(np.int64)\n",
    "            else:\n",
    "                if c_min > np.finfo(np.float16).min and c_max < np.finfo(np.float16).max:\n",
    "                    df[col] = df[col].astype(np.float16)\n",
    "                elif c_min > np.finfo(np.float32).min and c_max < np.finfo(np.float32).max:\n",
    "                    df[col] = df[col].astype(np.float32)\n",
    "                else:\n",
    "                    df[col] = df[col].astype(np.float64)\n",
    "    end_mem = df.memory_usage().sum() / 1024**2\n",
    "    if verbose: print('Mem. usage decreased to {:5.2f} Mb ({:.1f}% reduction)'.format(end_mem, 100 * (start_mem - end_mem) / start_mem))\n",
    "    return df"
   ]
  },
  {
   "cell_type": "code",
   "execution_count": 21,
   "metadata": {},
   "outputs": [],
   "source": [
    "@contextmanager\n",
    "def timer(name, logger=None, level=logging.DEBUG):\n",
    "    print_ = print if logger is None else lambda msg: logger.log(level, msg)\n",
    "    t0 = time()\n",
    "    print_(f'[{name}] start')\n",
    "    yield\n",
    "    print_(f'[{name}] done in {time() - t0:.0f} s')"
   ]
  },
  {
   "cell_type": "code",
   "execution_count": 22,
   "metadata": {},
   "outputs": [],
   "source": [
    "def get_dummies(df):\n",
    "    col = df.select_dtypes('O').columns.tolist()\n",
    "    nunique = df[col].nunique()\n",
    "    col_binary = nunique[nunique==2].index.tolist()\n",
    "    [col.remove(c) for c in col_binary]\n",
    "    df = pd.get_dummies(df, columns=col)\n",
    "    df = pd.get_dummies(df, columns=col_binary, drop_first=True)\n",
    "    return df"
   ]
  },
  {
   "cell_type": "code",
   "execution_count": 39,
   "metadata": {},
   "outputs": [],
   "source": [
    "def _target_mean_encoding(df, src_col, tgt_col):\n",
    "    \"\"\"\n",
    "    target mean encoding\n",
    "    target が数値のときに利用できる\n",
    "    \"\"\"\n",
    "    target_mean = df.groupby(src_col)[tgt_col].mean().astype(\"float16\")\n",
    "    df = df[src_col].map(target_mean).copy()\n",
    "    df.name = src_col+\"_\"+tgt_col+\"_target_mean\"\n",
    "    return df\n",
    "\n",
    "\n",
    "def target_mean_encoding(df, tgt_col):\n",
    "    \"\"\"\n",
    "    target mean encoding\n",
    "    すべてのカテゴリ変数に target mean encoding\n",
    "    \"\"\"\n",
    "    src_col = df.select_dtypes(\"O\").columns.tolist()\n",
    "    if tgt_col in src_col: src_col.remove(tgt_col)\n",
    "    df = pd.concat([ _target_mean_encoding(df, c, tgt_col) for c in src_col ], axis=1)\n",
    "    return df\n",
    "\n",
    "\n",
    "def _bin_counting(df, src_col, tgt_col):\n",
    "    \"\"\"\n",
    "    bin counting\n",
    "    target がカテゴリのときに利用できる\n",
    "    \"\"\"\n",
    "    cross_df         = pd.crosstab(df[src_col], df[tgt_col], normalize=\"index\")\n",
    "    labels           = [src_col+\"_\"+tgt_col+\"_\"+str(col) for col in cross_df.columns]\n",
    "    cross_df.columns = labels\n",
    "    df  = pd.merge(df, cross_df, left_on=src_col, right_index=True, how=\"left\")\n",
    "    return df[labels]\n",
    "\n",
    "\n",
    "def bin_counting(df, tgt_col):\n",
    "    \"\"\"\n",
    "    bin counting\n",
    "    すべてのカテゴリ変数と tgt_col に bin counting\n",
    "    \"\"\"\n",
    "    src_col = df.select_dtypes('O').columns.tolist()\n",
    "    if tgt_col in src_col: src_col.remove(tgt_col)\n",
    "    df = pd.concat([ _bin_counting(df, c, tgt_col) for c in src_col ], axis=1)\n",
    "    return df"
   ]
  },
  {
   "cell_type": "code",
   "execution_count": 58,
   "metadata": {},
   "outputs": [],
   "source": [
    "# バックオフ：少数派カテゴリ値を抽出\n",
    "def _backoff_cand(df, cutoff=0.01):\n",
    "    col = df.select_dtypes('O').columns.tolist()\n",
    "    cand = {c: [idx for idx, val in df[c].value_counts(normalize=True, dropna=False).iteritems() if val < cutoff] for c in col}\n",
    "    cand = {key: val for key, val in cand.items() if val!=[]} # 空リストを削除\n",
    "    return cand\n",
    "\n",
    "\n",
    "# バックオフ：少数派カテゴリ値をダミーで置き換え\n",
    "def _backoff_replace(df, cand, inplace, prfx, rep):\n",
    "    _df = pd.DataFrame({})\n",
    "    col = []\n",
    "    for key, val in cand.items():\n",
    "        tmp = df[key]\n",
    "        col_name = prfx+str(key)\n",
    "        for idx in val:\n",
    "            tmp = tmp.replace(idx, rep)\n",
    "        _df[col_name] = tmp\n",
    "        col.append(col_name)\n",
    "    return _df\n",
    "\n",
    "\n",
    "def backoff(df, prfx=\"@\", rep=\"@backoff\", inplace=False):\n",
    "    cand = _backoff_cand(df)\n",
    "    _df = _backoff_replace(df, cand, inplace, prfx, rep)\n",
    "    if inplace:\n",
    "        for key, val in cand.items():\n",
    "            df[key] = _df[prfx+str(key)]\n",
    "        return df\n",
    "    else:\n",
    "        return pd.concat([df, _df], axis=1)"
   ]
  },
  {
   "cell_type": "code",
   "execution_count": 61,
   "metadata": {},
   "outputs": [
    {
     "name": "stdout",
     "output_type": "stream",
     "text": [
      "================================================================================\n",
      "DATE: 2019-04-01 18:00:42.306797\n",
      "FILE: hoge\n",
      "PID: 9016\n",
      "HOST: Y-project-11\n",
      "ENV: Windows-10-10.0.17134-SP0\n",
      "================================================================================\n",
      "================================================================================\n",
      "ELAPSED: 0.00 (sec)\n",
      "================================================================================\n"
     ]
    }
   ],
   "source": [
    "start(\"hoge\")\n",
    "end()"
   ]
  },
  {
   "cell_type": "code",
   "execution_count": 28,
   "metadata": {},
   "outputs": [
    {
     "data": {
      "text/html": [
       "<div>\n",
       "<style scoped>\n",
       "    .dataframe tbody tr th:only-of-type {\n",
       "        vertical-align: middle;\n",
       "    }\n",
       "\n",
       "    .dataframe tbody tr th {\n",
       "        vertical-align: top;\n",
       "    }\n",
       "\n",
       "    .dataframe thead th {\n",
       "        text-align: right;\n",
       "    }\n",
       "</style>\n",
       "<table border=\"1\" class=\"dataframe\">\n",
       "  <thead>\n",
       "    <tr style=\"text-align: right;\">\n",
       "      <th></th>\n",
       "      <th>a</th>\n",
       "      <th>b</th>\n",
       "      <th>c</th>\n",
       "    </tr>\n",
       "  </thead>\n",
       "  <tbody>\n",
       "    <tr>\n",
       "      <th>0</th>\n",
       "      <td>1</td>\n",
       "      <td>6</td>\n",
       "      <td>a</td>\n",
       "    </tr>\n",
       "    <tr>\n",
       "      <th>1</th>\n",
       "      <td>2</td>\n",
       "      <td>7</td>\n",
       "      <td>b</td>\n",
       "    </tr>\n",
       "    <tr>\n",
       "      <th>2</th>\n",
       "      <td>3</td>\n",
       "      <td>8</td>\n",
       "      <td>c</td>\n",
       "    </tr>\n",
       "    <tr>\n",
       "      <th>3</th>\n",
       "      <td>4</td>\n",
       "      <td>9</td>\n",
       "      <td>d</td>\n",
       "    </tr>\n",
       "    <tr>\n",
       "      <th>4</th>\n",
       "      <td>5</td>\n",
       "      <td>10</td>\n",
       "      <td>e</td>\n",
       "    </tr>\n",
       "  </tbody>\n",
       "</table>\n",
       "</div>"
      ],
      "text/plain": [
       "   a   b  c\n",
       "0  1   6  a\n",
       "1  2   7  b\n",
       "2  3   8  c\n",
       "3  4   9  d\n",
       "4  5  10  e"
      ]
     },
     "execution_count": 28,
     "metadata": {},
     "output_type": "execute_result"
    }
   ],
   "source": [
    "df = pd.DataFrame({\"a\":[1,2,3,4,5], \"b\":[6,7,8,9,10], \"c\":[\"a\",\"b\",\"c\",\"d\",\"e\"]})\n",
    "df"
   ]
  },
  {
   "cell_type": "code",
   "execution_count": 10,
   "metadata": {},
   "outputs": [
    {
     "name": "stdout",
     "output_type": "stream",
     "text": [
      "write to new_folder00\n",
      "read new_folder00\\*.f\n"
     ]
    },
    {
     "data": {
      "text/html": [
       "<div>\n",
       "<style scoped>\n",
       "    .dataframe tbody tr th:only-of-type {\n",
       "        vertical-align: middle;\n",
       "    }\n",
       "\n",
       "    .dataframe tbody tr th {\n",
       "        vertical-align: top;\n",
       "    }\n",
       "\n",
       "    .dataframe thead th {\n",
       "        text-align: right;\n",
       "    }\n",
       "</style>\n",
       "<table border=\"1\" class=\"dataframe\">\n",
       "  <thead>\n",
       "    <tr style=\"text-align: right;\">\n",
       "      <th></th>\n",
       "      <th>a</th>\n",
       "      <th>b</th>\n",
       "      <th>c</th>\n",
       "    </tr>\n",
       "  </thead>\n",
       "  <tbody>\n",
       "    <tr>\n",
       "      <th>0</th>\n",
       "      <td>1</td>\n",
       "      <td>6</td>\n",
       "      <td>a</td>\n",
       "    </tr>\n",
       "    <tr>\n",
       "      <th>1</th>\n",
       "      <td>2</td>\n",
       "      <td>7</td>\n",
       "      <td>b</td>\n",
       "    </tr>\n",
       "    <tr>\n",
       "      <th>2</th>\n",
       "      <td>3</td>\n",
       "      <td>8</td>\n",
       "      <td>c</td>\n",
       "    </tr>\n",
       "    <tr>\n",
       "      <th>3</th>\n",
       "      <td>4</td>\n",
       "      <td>9</td>\n",
       "      <td>d</td>\n",
       "    </tr>\n",
       "    <tr>\n",
       "      <th>4</th>\n",
       "      <td>5</td>\n",
       "      <td>10</td>\n",
       "      <td>e</td>\n",
       "    </tr>\n",
       "  </tbody>\n",
       "</table>\n",
       "</div>"
      ],
      "text/plain": [
       "   a   b  c\n",
       "0  1   6  a\n",
       "1  2   7  b\n",
       "2  3   8  c\n",
       "3  4   9  d\n",
       "4  5  10  e"
      ]
     },
     "execution_count": 10,
     "metadata": {},
     "output_type": "execute_result"
    }
   ],
   "source": [
    "to_feather(df, \"new_folder00\")\n",
    "df00 = read_feather(\"new_folder00\")\n",
    "df00"
   ]
  },
  {
   "cell_type": "code",
   "execution_count": 11,
   "metadata": {},
   "outputs": [
    {
     "name": "stdout",
     "output_type": "stream",
     "text": [
      "write to new_folder01\n",
      "read new_folder01\\*.f\n"
     ]
    },
    {
     "data": {
      "text/html": [
       "<div>\n",
       "<style scoped>\n",
       "    .dataframe tbody tr th:only-of-type {\n",
       "        vertical-align: middle;\n",
       "    }\n",
       "\n",
       "    .dataframe tbody tr th {\n",
       "        vertical-align: top;\n",
       "    }\n",
       "\n",
       "    .dataframe thead th {\n",
       "        text-align: right;\n",
       "    }\n",
       "</style>\n",
       "<table border=\"1\" class=\"dataframe\">\n",
       "  <thead>\n",
       "    <tr style=\"text-align: right;\">\n",
       "      <th></th>\n",
       "      <th>a</th>\n",
       "      <th>b</th>\n",
       "      <th>c</th>\n",
       "    </tr>\n",
       "  </thead>\n",
       "  <tbody>\n",
       "    <tr>\n",
       "      <th>0</th>\n",
       "      <td>1</td>\n",
       "      <td>6</td>\n",
       "      <td>a</td>\n",
       "    </tr>\n",
       "    <tr>\n",
       "      <th>1</th>\n",
       "      <td>2</td>\n",
       "      <td>7</td>\n",
       "      <td>b</td>\n",
       "    </tr>\n",
       "    <tr>\n",
       "      <th>2</th>\n",
       "      <td>3</td>\n",
       "      <td>8</td>\n",
       "      <td>c</td>\n",
       "    </tr>\n",
       "    <tr>\n",
       "      <th>3</th>\n",
       "      <td>4</td>\n",
       "      <td>9</td>\n",
       "      <td>d</td>\n",
       "    </tr>\n",
       "    <tr>\n",
       "      <th>4</th>\n",
       "      <td>5</td>\n",
       "      <td>10</td>\n",
       "      <td>e</td>\n",
       "    </tr>\n",
       "  </tbody>\n",
       "</table>\n",
       "</div>"
      ],
      "text/plain": [
       "   a   b  c\n",
       "0  1   6  a\n",
       "1  2   7  b\n",
       "2  3   8  c\n",
       "3  4   9  d\n",
       "4  5  10  e"
      ]
     },
     "execution_count": 11,
     "metadata": {},
     "output_type": "execute_result"
    }
   ],
   "source": [
    "to_pickles(df, \"new_folder01\")\n",
    "df01 = read_pickles(\"new_folder01\")\n",
    "df01"
   ]
  },
  {
   "cell_type": "code",
   "execution_count": 12,
   "metadata": {},
   "outputs": [
    {
     "name": "stdout",
     "output_type": "stream",
     "text": [
      "[reduce mem usage] start\n",
      "Mem. usage decreased to  0.00 Mb (35.0% reduction)\n",
      "[reduce mem usage] done in 0 s\n"
     ]
    }
   ],
   "source": [
    "with timer(\"reduce mem usage\"):\n",
    "    df = reduce_mem_usage(df)"
   ]
  },
  {
   "cell_type": "code",
   "execution_count": 13,
   "metadata": {},
   "outputs": [
    {
     "name": "stdout",
     "output_type": "stream",
     "text": [
      "[reduce] start\n",
      "[reduce] done in 0 s\n"
     ]
    }
   ],
   "source": [
    "with timer(\"reduce\"):\n",
    "    get_dummies(df)"
   ]
  },
  {
   "cell_type": "code",
   "execution_count": 15,
   "metadata": {},
   "outputs": [
    {
     "name": "stdout",
     "output_type": "stream",
     "text": [
      "[timer] start\n",
      "[timer] done in 1 s\n"
     ]
    }
   ],
   "source": [
    "with timer(\"timer\"):\n",
    "    for _ in range(10):\n",
    "        sleep(0.1)"
   ]
  },
  {
   "cell_type": "code",
   "execution_count": 63,
   "metadata": {},
   "outputs": [
    {
     "name": "stdout",
     "output_type": "stream",
     "text": [
      "[proprocessing] start\n",
      "[proprocessing] done in 0 s\n"
     ]
    }
   ],
   "source": [
    "a = {\n",
    "    \"cat1\": [\"a\", \"b\", \"a\", \"a\", \"c\", \"c\", \"c\"],\n",
    "    \"cat2\": [\"A\", \"A\", \"B\", \"B\", \"B\", \"C\", \"C\"],\n",
    "    \"numeric\":  [1.0, 2.0, 3.0, 4.0, 5.0, 6.0, 7.0],\n",
    "    \"label\":    [1, 1, 1, 2, 2, 3, 3]\n",
    "}\n",
    "with timer(\"proprocessing\"):\n",
    "    df = pd.DataFrame(a)\n",
    "    # get_dummies(df)\n",
    "    # bin_counting(df, \"label\")\n",
    "    # target_mean_encoding(df, \"numeric\")\n",
    "    backoff(df, inplace=True)"
   ]
  },
  {
   "cell_type": "code",
   "execution_count": null,
   "metadata": {},
   "outputs": [],
   "source": []
  }
 ],
 "metadata": {
  "kernelspec": {
   "display_name": "Python 3",
   "language": "python",
   "name": "python3"
  },
  "language_info": {
   "codemirror_mode": {
    "name": "ipython",
    "version": 3
   },
   "file_extension": ".py",
   "mimetype": "text/x-python",
   "name": "python",
   "nbconvert_exporter": "python",
   "pygments_lexer": "ipython3",
   "version": "3.6.7"
  }
 },
 "nbformat": 4,
 "nbformat_minor": 2
}
