{
 "cells": [
  {
   "cell_type": "code",
   "execution_count": 1,
   "metadata": {},
   "outputs": [],
   "source": [
    "import warnings\n",
    "# warnings.filterwarnings(\"ignore\", message=\"numpy.dtype size changed\")\n",
    "# warnings.filterwarnings(\"ignore\", message=\"numpy.ufunc size changed\")\n",
    "import pandas as pd\n",
    "import numpy as np\n",
    "import matplotlib.pyplot as plt\n",
    "import itertools\n",
    "from sklearn.model_selection import KFold\n",
    "# from MTS import *\n",
    "# from orthogonal_array import *\n",
    "from sklearn.mixture import BayesianGaussianMixture"
   ]
  },
  {
   "cell_type": "code",
   "execution_count": 2,
   "metadata": {},
   "outputs": [],
   "source": [
    "def bgmm(X_train, X_test):\n",
    "    bgmm = BayesianGaussianMixture(n_components=len(X_train.columns), verbose=0, max_iter=1000, random_state=0)\n",
    "    bgmm.fit(X_train)\n",
    "    score = bgmm.score_samples(X_test)\n",
    "    return score\n",
    "\n",
    "def break_even(a, y_test):\n",
    "    \"\"\" 分岐点精度の計算 \"\"\"\n",
    "    # 正常標本精度と異常標本精度の計算\n",
    "    y_test.reset_index(drop=True, inplace=True) # インデックスリセット\n",
    "    idx = a.argsort()[::-1] # 降順のインデックス計算\n",
    "    n_total = len(y_test)\n",
    "    n_anom = sum(y_test)\n",
    "    n_norm = n_total - n_anom\n",
    "    coverage = np.zeros(n_total) # 異常標本精度\n",
    "    detection = np.zeros(n_total) # 正常標本精度\n",
    "    for i in range(n_total):\n",
    "        n_detected_anom = sum(y_test[idx][:i])\n",
    "        n_detected_norm = n_total - i - sum(y_test[idx][i:])\n",
    "        coverage[i] = n_detected_anom / n_anom\n",
    "        detection[i] = n_detected_norm / n_norm\n",
    "\n",
    "    # 分岐点精度の計算\n",
    "    thresh = 0\n",
    "    for i, (c_score, d_score) in enumerate(zip(coverage, detection)):\n",
    "        if c_score >= d_score:\n",
    "            thresh = i\n",
    "            break\n",
    "    break_even_point = a[idx][thresh]\n",
    "    print(break_even_point, c_score, d_score)\n",
    "    return (break_even_point, c_score), (coverage, detection)"
   ]
  },
  {
   "cell_type": "code",
   "execution_count": 3,
   "metadata": {},
   "outputs": [],
   "source": [
    "# ファイル読み込み\n",
    "IN_FILE = '../data/SkillCraft1_Dataset.csv'\n",
    "df = pd.read_csv(IN_FILE, header=0, index_col=None, sep=',')"
   ]
  },
  {
   "cell_type": "code",
   "execution_count": 4,
   "metadata": {
    "scrolled": true
   },
   "outputs": [],
   "source": [
    "# '?'を含む行を削除\n",
    "df = df[(df=='?').sum(axis=1)==0]"
   ]
  },
  {
   "cell_type": "code",
   "execution_count": 5,
   "metadata": {},
   "outputs": [],
   "source": [
    "# シャッフルとインデックス更新\n",
    "df = df.sample(frac=1, random_state=0) # 行シャッフル\n",
    "df = df.reset_index(drop=True) # インデックスの更新"
   ]
  },
  {
   "cell_type": "code",
   "execution_count": 6,
   "metadata": {},
   "outputs": [
    {
     "name": "stdout",
     "output_type": "stream",
     "text": [
      "(3338, 18)\n"
     ]
    }
   ],
   "source": [
    "# データセットの作成\n",
    "target_col = 'LeagueIndex'\n",
    "target = 1\n",
    "del_col = [target_col, 'GameID']\n",
    "X = df.drop(del_col, axis=1)\n",
    "y = (df[target_col]==target).astype(np.int32)\n",
    "print(X.shape)"
   ]
  },
  {
   "cell_type": "markdown",
   "metadata": {},
   "source": [
    "# 異常検出（5分割交差検証による評価）"
   ]
  },
  {
   "cell_type": "code",
   "execution_count": 7,
   "metadata": {},
   "outputs": [
    {
     "name": "stdout",
     "output_type": "stream",
     "text": [
      "-11.356159793619181 0.5666666666666667 0.5658307210031348\n",
      "-11.67012703500609 0.5714285714285714 0.5576619273301737\n",
      "-10.257279954271286 0.6875 0.6871069182389937\n",
      "-11.22550127955575 0.6060606060606061 0.5788643533123028\n",
      "-10.388488472305554 0.6756756756756757 0.6714285714285714\n",
      "average: 0.6214663039663039\n",
      "Wall time: 25.5 s\n"
     ]
    }
   ],
   "source": [
    "%%time\n",
    "# 項目選択のないMT法（単なるMahalanobis距離）交差確認\n",
    "scores = []\n",
    "kf = KFold(n_splits=5, random_state=0, shuffle=True)\n",
    "for i, (train_index, test_index) in enumerate(kf.split(X)):\n",
    "    # print(\"TRAIN:\", train_index, \"TEST:\", test_index)\n",
    "    X_train, X_test = X.iloc[train_index], X.iloc[test_index]\n",
    "    y_train, y_test = y.iloc[train_index], y.iloc[test_index]\n",
    "\n",
    "    # 混合正規分布による異常検知\n",
    "    # →平均0.3957\n",
    "    anomaly_score = -bgmm(X_train[y_train==0], X_test)\n",
    "    (break_even_point, score), (coverage, detection) = break_even(anomaly_score, y_test)\n",
    "    anomaly_score_abnormal = anomaly_score[y_test==1]\n",
    "    scores.append(score)\n",
    "print('average: {}'.format(sum(scores)/len(scores)))"
   ]
  }
 ],
 "metadata": {
  "kernelspec": {
   "display_name": "Python 3",
   "language": "python",
   "name": "python3"
  },
  "language_info": {
   "codemirror_mode": {
    "name": "ipython",
    "version": 3
   },
   "file_extension": ".py",
   "mimetype": "text/x-python",
   "name": "python",
   "nbconvert_exporter": "python",
   "pygments_lexer": "ipython3",
   "version": "3.6.4"
  }
 },
 "nbformat": 4,
 "nbformat_minor": 2
}
