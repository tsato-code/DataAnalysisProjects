{
 "cells": [
  {
   "cell_type": "code",
   "execution_count": 1,
   "metadata": {},
   "outputs": [],
   "source": [
    "import hashlib\n",
    "import random\n",
    "import string\n",
    "\n",
    "import numpy as np"
   ]
  },
  {
   "cell_type": "code",
   "execution_count": 2,
   "metadata": {},
   "outputs": [
    {
     "name": "stdout",
     "output_type": "stream",
     "text": [
      "asr\n",
      "b'asr'\n",
      "<md5 HASH object @ 0x10974ee40>\n",
      "c5aee1e49695056c0c9c1da749bc2a8e\n",
      "262765956475798268872842404889834039950\n",
      "2\n"
     ]
    }
   ],
   "source": [
    "dim = 3\n",
    "print(                \"asr\"                                        )\n",
    "print(                \"asr\".encode(\"utf-8\")                        )\n",
    "print(    hashlib.md5(\"asr\".encode(\"utf-8\"))                       )\n",
    "print(    hashlib.md5(\"asr\".encode(\"utf-8\")).hexdigest()           )\n",
    "print(int(hashlib.md5(\"asr\".encode(\"utf-8\")).hexdigest(), 16)      )\n",
    "print(int(hashlib.md5(\"asr\".encode(\"utf-8\")).hexdigest(), 16) % dim)"
   ]
  },
  {
   "cell_type": "code",
   "execution_count": 3,
   "metadata": {},
   "outputs": [],
   "source": [
    "def randomname(n):\n",
    "    randlst = [random.choice(string.ascii_letters + string.digits) for i in range(n)]\n",
    "    return ''.join(randlst)"
   ]
  },
  {
   "cell_type": "code",
   "execution_count": 4,
   "metadata": {},
   "outputs": [],
   "source": [
    "n_sample = 10\n",
    "data = [[randomname(2) for _ in range(3)] for _ in range(n_sample)]"
   ]
  },
  {
   "cell_type": "code",
   "execution_count": 5,
   "metadata": {},
   "outputs": [
    {
     "data": {
      "text/plain": [
       "[['Ip', 'yn', 'Vj'],\n",
       " ['Ja', 'tZ', 'l0'],\n",
       " ['mx', 'WJ', 'Zt'],\n",
       " ['fV', 'bj', 'ZE'],\n",
       " ['CY', '6q', 'PG'],\n",
       " ['4b', 'Oe', 'xH'],\n",
       " ['Fn', '5k', '0d'],\n",
       " ['aJ', 'Pz', 'gn'],\n",
       " ['HR', 'xM', 'TL'],\n",
       " ['kE', '48', 'uy']]"
      ]
     },
     "execution_count": 5,
     "metadata": {},
     "output_type": "execute_result"
    }
   ],
   "source": [
    "data"
   ]
  },
  {
   "cell_type": "code",
   "execution_count": 6,
   "metadata": {},
   "outputs": [],
   "source": [
    "dim = 3\n",
    "x = np.zeros((len(data), dim), dtype=int)\n",
    "for row in range(len(data)):\n",
    "    for col in range(len(data[1])):\n",
    "        index = int(hashlib.md5(str(data[row][col]).encode('utf8')).hexdigest(), 16) % dim\n",
    "        x[row, index] += 1"
   ]
  },
  {
   "cell_type": "code",
   "execution_count": 7,
   "metadata": {},
   "outputs": [
    {
     "data": {
      "text/plain": [
       "array([[1, 1, 1],\n",
       "       [1, 2, 0],\n",
       "       [0, 1, 2],\n",
       "       [0, 3, 0],\n",
       "       [2, 0, 1],\n",
       "       [2, 0, 1],\n",
       "       [0, 3, 0],\n",
       "       [3, 0, 0],\n",
       "       [1, 0, 2],\n",
       "       [2, 1, 0]])"
      ]
     },
     "execution_count": 7,
     "metadata": {},
     "output_type": "execute_result"
    }
   ],
   "source": [
    "x"
   ]
  }
 ],
 "metadata": {
  "kernelspec": {
   "display_name": "Python 3",
   "language": "python",
   "name": "python3"
  },
  "language_info": {
   "codemirror_mode": {
    "name": "ipython",
    "version": 3
   },
   "file_extension": ".py",
   "mimetype": "text/x-python",
   "name": "python",
   "nbconvert_exporter": "python",
   "pygments_lexer": "ipython3",
   "version": "3.7.6"
  }
 },
 "nbformat": 4,
 "nbformat_minor": 4
}
