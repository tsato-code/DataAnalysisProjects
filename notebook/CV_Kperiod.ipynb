{
 "cells": [
  {
   "cell_type": "code",
   "execution_count": 1,
   "metadata": {},
   "outputs": [],
   "source": [
    "import statsmodels as sm\n",
    "import pandas as pd\n",
    "import numpy as np\n",
    "from sklearn.ensemble import RandomForestRegressor"
   ]
  },
  {
   "cell_type": "code",
   "execution_count": 2,
   "metadata": {},
   "outputs": [],
   "source": [
    "def load_data():\n",
    "    df_read = sm.datasets.nile.load_pandas().data\n",
    "    s_date = pd.Series(\n",
    "        [pd.to_datetime(str(int(y_str))) for y_str in df_read['year']]\n",
    "    )\n",
    "    df = df_read.set_index(s_date)\n",
    "    df = df.drop('year', axis=1)\n",
    "    return df"
   ]
  },
  {
   "cell_type": "code",
   "execution_count": 3,
   "metadata": {},
   "outputs": [],
   "source": [
    "def step_forward(rf_fitted, X, in_out_sep=67, pred_len=33):\n",
    "    nlags = 3\n",
    "    idx = in_out_sep - nlags - 1\n",
    "    lags123 = np.asarray([X[idx, 0],\n",
    "                          X[idx, 1],\n",
    "                          X[idx, 2]])\n",
    "    x_pred_hist = []\n",
    "    for i in range(nlags + pred_len):\n",
    "        x_pred = rf_fitted.predict([lags123])\n",
    "        if i > nlags:\n",
    "            x_pred_hist.append(x_pred)\n",
    "        lags123[0] = lags123[1]\n",
    "        lags123[1] = lags123[2]\n",
    "        lags123[2] = x_pred\n",
    "    x_pred_np = np.asarray(x_pred_hist).squeeze()\n",
    "    return x_pred_np"
   ]
  },
  {
   "cell_type": "code",
   "execution_count": 4,
   "metadata": {},
   "outputs": [
    {
     "data": {
      "text/plain": [
       "(97, 4)"
      ]
     },
     "execution_count": 4,
     "metadata": {},
     "output_type": "execute_result"
    }
   ],
   "source": [
    "# データロード\n",
    "df_nile = load_data()\n",
    "df_nile['lag1'] = df_nile['volume'].shift(1) \n",
    "df_nile['lag2'] = df_nile['volume'].shift(2)\n",
    "df_nile['lag3'] = df_nile['volume'].shift(3)\n",
    "# lag の欠損を除去\n",
    "df_nile = df_nile.dropna()\n",
    "df_nile.shape"
   ]
  },
  {
   "cell_type": "code",
   "execution_count": 5,
   "metadata": {},
   "outputs": [],
   "source": [
    "# データセット分割\n",
    "X_train = df_nile[['lag1', 'lag2', 'lag3']][:67].values\n",
    "X_test = df_nile[['lag1', 'lag2', 'lag3']][67:].values\n",
    "y_train = df_nile['volume'][:67].values\n",
    "y_test = df_nile['volume'][67:].values"
   ]
  },
  {
   "cell_type": "code",
   "execution_count": 6,
   "metadata": {},
   "outputs": [
    {
     "data": {
      "text/plain": [
       "RandomForestRegressor(bootstrap=True, criterion='mse', max_depth=None,\n",
       "           max_features='auto', max_leaf_nodes=None,\n",
       "           min_impurity_decrease=0.0, min_impurity_split=None,\n",
       "           min_samples_leaf=1, min_samples_split=2,\n",
       "           min_weight_fraction_leaf=0.0, n_estimators=100, n_jobs=-1,\n",
       "           oob_score=False, random_state=1, verbose=0, warm_start=False)"
      ]
     },
     "execution_count": 6,
     "metadata": {},
     "output_type": "execute_result"
    }
   ],
   "source": [
    "# 学習\n",
    "r_forest = RandomForestRegressor(\n",
    "    n_estimators=100,\n",
    "    criterion='mse',\n",
    "    random_state=1,\n",
    "    n_jobs=-1\n",
    ")\n",
    "r_forest.fit(X_train, y_train)"
   ]
  },
  {
   "cell_type": "code",
   "execution_count": 7,
   "metadata": {},
   "outputs": [],
   "source": [
    "# 予測\n",
    "x_pred_np = step_forward(r_forest, np.vstack([X_train, X_test]),pred_len=31)"
   ]
  },
  {
   "cell_type": "code",
   "execution_count": 8,
   "metadata": {},
   "outputs": [
    {
     "name": "stdout",
     "output_type": "stream",
     "text": [
      "681.1883936914955\n"
     ]
    }
   ],
   "source": [
    "# 精度\n",
    "acc = np.sqrt(np.sum((x_pred_np - y_test)**2))\n",
    "print(acc)"
   ]
  }
 ],
 "metadata": {
  "kernelspec": {
   "display_name": "VPython",
   "language": "python",
   "name": "vpython"
  },
  "language_info": {
   "codemirror_mode": {
    "name": "ipython",
    "version": 3
   },
   "file_extension": ".py",
   "mimetype": "text/x-python",
   "name": "python",
   "nbconvert_exporter": "python",
   "pygments_lexer": "ipython3",
   "version": "3.6.7"
  }
 },
 "nbformat": 4,
 "nbformat_minor": 2
}
